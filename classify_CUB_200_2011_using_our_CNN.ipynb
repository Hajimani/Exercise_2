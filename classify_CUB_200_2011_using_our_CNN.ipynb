{
 "cells": [
  {
   "cell_type": "code",
   "execution_count": 11,
   "metadata": {},
   "outputs": [],
   "source": [
    "from Model import *\n",
    "import os\n",
    "import numpy as np\n",
    "from PIL import Image\n",
    "import matplotlib.pyplot as plt\n",
    "%matplotlib inline"
   ]
  },
  {
   "cell_type": "markdown",
   "metadata": {},
   "source": [
    "## Define batch size, number of classes, and image dimensions"
   ]
  },
  {
   "cell_type": "code",
   "execution_count": 12,
   "metadata": {},
   "outputs": [],
   "source": [
    "batch_size = 1024\n",
    "num_classes = 200\n",
    "im_rows,im_cols,im_channels = 64,64,3"
   ]
  },
  {
   "cell_type": "markdown",
   "metadata": {},
   "source": [
    "## Load Train and Test sets"
   ]
  },
  {
   "cell_type": "code",
   "execution_count": 13,
   "metadata": {},
   "outputs": [],
   "source": [
    "class Load_data:\n",
    "    def __init__(self,dirpath=r'data\\ds1\\CUB_200_2011\\images\\elmira'):\n",
    "        self.dirpath=dirpath\n",
    "        self.ds_x=[]\n",
    "        \n",
    "    def make_ds(self):\n",
    "        \n",
    "        classes=[x[0] for x in os.walk(self.dirpath)]\n",
    "        classes = classes[1:]  # remove parent dir\n",
    "        self.ds_y=[]\n",
    "        #print(classes)\n",
    "        for j in range(len(classes)):\n",
    "            images_curr_class = os.listdir(classes[j])\n",
    "            for i in range(len(images_curr_class)):\n",
    "                \n",
    "                img=Image.open(os.path.join(classes[j], images_curr_class[i])).resize(size=(64,64), resample=Image.BICUBIC)\n",
    "                img=np.array(img)\n",
    "                #print(img.shape)\n",
    "                self.ds_x.append(img)\n",
    "                \n",
    "                #curr_y=np.zeros(shape=(len(classes)))\n",
    "                #curr_y[j]=1\n",
    "                #self.ds_y.append(curr_y)\n",
    "                self.ds_y.append(j)\n",
    "                \n",
    "\n",
    "        self.ds_y=np.array(self.ds_y)\n",
    "        #print(\"y\",self.ds_y.shape)\n",
    "        #self.ds_x=np.concatenate( self.ds_x[1:], axis=0 ).reshape(-1,64,64,3)\n",
    "        #print(\"x\",self.ds_x.shape)  \n",
    "        \n",
    "        return self.ds_x,self.ds_y\n",
    "        \n",
    "     \n",
    "        \n",
    "                 \n",
    "        "
   ]
  },
  {
   "cell_type": "code",
   "execution_count": 14,
   "metadata": {},
   "outputs": [
    {
     "name": "stdout",
     "output_type": "stream",
     "text": [
      "(7470, 64, 64, 3) (7470,)\n"
     ]
    }
   ],
   "source": [
    "ld_tr=Load_data(dirpath=r'data\\ds1\\CUB_200_2011\\images\\train')\n",
    "x_train,t_train=ld_tr.make_ds()\n",
    "\n",
    "tr = np.empty((len(x_train), 64,64,3))\n",
    "for i in range(len(x_train)):\n",
    "    if np.sum(x_train[i].shape)==131:\n",
    "        tr[i,:,:,:]=x_train[i]\n",
    "x_train=tr\n",
    "print(x_train.shape,t_train.shape)"
   ]
  },
  {
   "cell_type": "code",
   "execution_count": 15,
   "metadata": {},
   "outputs": [
    {
     "name": "stdout",
     "output_type": "stream",
     "text": [
      "(4318, 64, 64, 3) (4318,)\n"
     ]
    }
   ],
   "source": [
    "ld_te=Load_data(dirpath=r'data\\ds1\\CUB_200_2011\\images\\test')\n",
    "x_test,t_test=ld_te.make_ds()\n",
    "\n",
    "te = np.empty((len(x_test), 64,64,3))\n",
    "for i in range(len(x_test)):\n",
    "    if np.sum(x_test[i].shape)==131:\n",
    "        te[i,:,:,:]=x_test[i]\n",
    "x_test=te\n",
    "print(x_test.shape,t_test.shape)"
   ]
  },
  {
   "cell_type": "markdown",
   "metadata": {},
   "source": [
    "## Reshape and normalize dataset"
   ]
  },
  {
   "cell_type": "code",
   "execution_count": 16,
   "metadata": {},
   "outputs": [
    {
     "data": {
      "text/plain": [
       "(7470, 3, 64, 64)"
      ]
     },
     "execution_count": 16,
     "metadata": {},
     "output_type": "execute_result"
    }
   ],
   "source": [
    "x_train = x_train.reshape(-1,3,im_rows,im_cols).astype(float)\n",
    "x_test = x_test.reshape(-1,3,im_rows,im_cols).astype(float)\n",
    "x_train /= 255\n",
    "x_train= x_train - np.mean(x_train)\n",
    "x_test /= 255\n",
    "x_test= x_test -np.mean(x_test)\n",
    "x_train.shape"
   ]
  },
  {
   "cell_type": "markdown",
   "metadata": {},
   "source": [
    "## Define the layers of our convolutional neural network"
   ]
  },
  {
   "cell_type": "code",
   "execution_count": 17,
   "metadata": {},
   "outputs": [],
   "source": [
    "input_layer = Input(\"Input\",(3,im_rows,im_cols),1024)\n",
    "c1 = Conv2D(stride=(1,1),filter_shape=(5,5),n_filters=20,padding=(0,0),activation=\"relu\")\n",
    "mp1 = MaxP((2,2),(2,2))\n",
    "c2 = Conv2D(stride=(1,1),filter_shape=(5,5),n_filters=50,padding=(0,0),activation=\"relu\")\n",
    "mp2 = MaxP((2,2),(2,2))\n",
    "fc1 = FC(\"relu\",500)\n",
    "fc2 = FC(\"relu\",200)\n",
    "loss = CELoss()"
   ]
  },
  {
   "cell_type": "markdown",
   "metadata": {},
   "source": [
    "## Binding the layers together to build the network"
   ]
  },
  {
   "cell_type": "code",
   "execution_count": 18,
   "metadata": {},
   "outputs": [],
   "source": [
    "graph = c1(input_layer)\n",
    "graph = mp1(graph)\n",
    "graph = c2(graph)\n",
    "graph = mp2(graph)\n",
    "graph = fc1(graph)\n",
    "graph = fc2(graph)\n",
    "graph = loss(graph,input_layer)"
   ]
  },
  {
   "cell_type": "code",
   "execution_count": 19,
   "metadata": {},
   "outputs": [
    {
     "name": "stdout",
     "output_type": "stream",
     "text": [
      "Initing\n"
     ]
    }
   ],
   "source": [
    "model = Model(graph,x_train,t_train, lr=0.01) # lr is the learning rate"
   ]
  },
  {
   "cell_type": "markdown",
   "metadata": {},
   "source": [
    "## Train the network"
   ]
  },
  {
   "cell_type": "code",
   "execution_count": null,
   "metadata": {},
   "outputs": [
    {
     "name": "stderr",
     "output_type": "stream",
     "text": [
      "c:\\users\\ehajimani\\appdata\\local\\programs\\python\\python36\\lib\\site-packages\\skimage\\util\\shape.py:247: RuntimeWarning: Cannot provide views on a non-contiguous input array without copying.\n",
      "  warn(RuntimeWarning(\"Cannot provide views on a non-contiguous input \"\n"
     ]
    },
    {
     "name": "stdout",
     "output_type": "stream",
     "text": [
      "1024\n",
      "i = 0 Error = 5.712828018908574 Acc_batch = 0.0\n",
      "1024\n",
      "i = 1 Error = 5.29839068880427 Acc_batch = 0.0\n",
      "1024\n"
     ]
    },
    {
     "name": "stderr",
     "output_type": "stream",
     "text": [
      "C:\\Users\\ehajimani\\Documents\\Eduardo\\exercise_2\\Exercise_2\\Loss.py:40: RuntimeWarning: divide by zero encountered in log\n",
      "  self.fw_result = -np.log(self.prob[range(n_pred), y_train])\n"
     ]
    }
   ],
   "source": [
    "losses=[]\n",
    "acc=[]\n",
    "for i in range(10):\n",
    "    model.forward_pass()\n",
    "    model.backward_pass()\n",
    "    model.update()\n",
    "    losses.append(np.mean(loss.fw_result))\n",
    "    acc.append(len([x for x in np.argmax(fc2.fw_result,axis=1) - input_layer.target if x == 0])/batch_size)\n",
    "    print(\"i = {} Error = {} Acc_batch = {}\".format(i,np.mean(loss.fw_result),len([x for x in np.argmax(fc2.fw_result,axis=1) - input_layer.target if x == 0])/batch_size))"
   ]
  },
  {
   "cell_type": "code",
   "execution_count": null,
   "metadata": {},
   "outputs": [],
   "source": [
    "%matplotlib inline\n",
    "import matplotlib.pyplot as plt\n",
    "plt.plot(losses) \n",
    "plt.ylabel('Error')\n",
    "plt.xlabel('Iterations')\n",
    "plt.show()"
   ]
  },
  {
   "cell_type": "code",
   "execution_count": null,
   "metadata": {},
   "outputs": [],
   "source": [
    "plt.plot(acc) \n",
    "plt.ylabel('Accuracy')\n",
    "plt.xlabel('Iterations')\n",
    "plt.show()"
   ]
  }
 ],
 "metadata": {
  "kernelspec": {
   "display_name": "Python 3",
   "language": "python",
   "name": "python3"
  },
  "language_info": {
   "codemirror_mode": {
    "name": "ipython",
    "version": 3
   },
   "file_extension": ".py",
   "mimetype": "text/x-python",
   "name": "python",
   "nbconvert_exporter": "python",
   "pygments_lexer": "ipython3",
   "version": "3.6.0"
  }
 },
 "nbformat": 4,
 "nbformat_minor": 2
}
