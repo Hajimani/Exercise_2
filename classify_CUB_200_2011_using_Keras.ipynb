{
 "cells": [
  {
   "cell_type": "code",
   "execution_count": 3,
   "metadata": {},
   "outputs": [],
   "source": [
    "import os\n",
    "import numpy as np\n",
    "from keras.preprocessing.image import ImageDataGenerator\n",
    "from keras import *\n",
    "from keras import layers\n",
    "from keras import optimizers\n",
    "import matplotlib.pyplot as plt\n",
    "%matplotlib inline\n",
    "from h5py import *"
   ]
  },
  {
   "cell_type": "markdown",
   "metadata": {},
   "source": [
    "## Model"
   ]
  },
  {
   "cell_type": "code",
   "execution_count": 8,
   "metadata": {},
   "outputs": [],
   "source": [
    "class net_CNN:\n",
    "    def __init__(self,depth=3, height=64, width=64,n_classes=200,dir=r\"data\\ds1\\CUB_200_2011\\images\\train\"):\n",
    "        self.depth=depth\n",
    "        self.height=height\n",
    "        self.width=width\n",
    "        self.n_classes=n_classes\n",
    "        self.dir=dir\n",
    "        \n",
    "        self.model=Sequential()\n",
    "        self.model.add(layers.Conv2D(filters=20, kernel_size=(5, 5),strides=(1,1), padding='valid',input_shape=(self.height, self.width,self.depth)))\n",
    "        self.model.add(layers.Activation(\"relu\"))\n",
    "        self.model.add(layers.MaxPool2D(pool_size=(2, 2), strides=(2, 2)))\n",
    "\n",
    "        self.model.add(layers.Conv2D(filters=50, kernel_size=(5, 5),strides=(1,1),padding='valid'))\n",
    "        self.model.add(layers.Activation(\"relu\"))\n",
    "        self.model.add(layers.MaxPooling2D(pool_size=(2,2), strides=(2, 2)))\n",
    "\n",
    "        self.model.add(layers.Flatten())\n",
    "        self.model.add(layers.Dense(500))\n",
    "        self.model.add(layers.Activation(\"relu\"))\n",
    "\n",
    "\n",
    "        self.model.add(layers.Dense(self.n_classes))\n",
    "        self.model.add(layers.Activation(\"softmax\"))\n",
    "        \n",
    "        self.sgd = optimizers.SGD(lr=0.01)\n",
    "        \n",
    "    def train(self, batch_size=1024, nb_epoch=10, path_to_save_weights=\"weights\\keras\\weights_keras.h5py\", loss='categorical_crossentropy', metrics=['accuracy']):\n",
    "        self.model.compile(optimizer=self.sgd, loss=loss, metrics=metrics) \n",
    "        self.data_gen=ImageDataGenerator().flow_from_directory(self.dir , target_size=(self.height, self.width),batch_size=batch_size)\n",
    "        self.losses=[]\n",
    "        self.acc=[]\n",
    "        for e in range(nb_epoch):\n",
    "\n",
    "            batches = int(self.data_gen.samples / self.data_gen.batch_size)\n",
    "        \n",
    "            for i in range(batches):\n",
    "                self.x,self.y = self.data_gen.next()\n",
    "                self.x=self.x/255\n",
    "                history = self.model.fit(self.x, self.y, verbose=0)\n",
    "                print(\"epoch = {}/{} batch = {}/{} Loss = {}  Acc ={} \".format(e,nb_epoch,i,batches,history.history['loss'],history.history['acc']))\n",
    "            self.losses.append(history.history['loss'])\n",
    "            self.acc.append(history.history['acc'])\n",
    "        self.model.save_weights(path_to_save_weights)  \n"
   ]
  },
  {
   "cell_type": "code",
   "execution_count": null,
   "metadata": {},
   "outputs": [
    {
     "name": "stdout",
     "output_type": "stream",
     "text": [
      "Found 7470 images belonging to 200 classes.\n",
      "epoch = 0/10 batch = 0/7 Loss = [5.311276912689209]  Acc =[0.0048828125] \n",
      "epoch = 0/10 batch = 1/7 Loss = [5.304479166865349]  Acc =[0.0048828125] \n",
      "epoch = 0/10 batch = 2/7 Loss = [5.299108684062958]  Acc =[0.005859375] \n",
      "epoch = 0/10 batch = 3/7 Loss = [5.299204230308533]  Acc =[0.0029296875] \n",
      "epoch = 0/10 batch = 4/7 Loss = [5.301711618900299]  Acc =[0.00390625] \n",
      "epoch = 0/10 batch = 5/7 Loss = [5.295964166522026]  Acc =[0.009765625] \n",
      "epoch = 0/10 batch = 6/7 Loss = [5.2979114055633545]  Acc =[0.005859375] \n",
      "epoch = 1/10 batch = 0/7 Loss = [5.2964735536385845]  Acc =[0.006622516556291391] \n",
      "epoch = 1/10 batch = 1/7 Loss = [5.290560498833656]  Acc =[0.0078125] \n",
      "epoch = 1/10 batch = 2/7 Loss = [5.289989769458771]  Acc =[0.00390625] \n",
      "epoch = 1/10 batch = 3/7 Loss = [5.287829875946045]  Acc =[0.0107421875] \n",
      "epoch = 1/10 batch = 4/7 Loss = [5.28583587706089]  Acc =[0.0087890625] \n",
      "epoch = 1/10 batch = 5/7 Loss = [5.280382499098778]  Acc =[0.009765625] \n",
      "epoch = 1/10 batch = 6/7 Loss = [5.2821847051382065]  Acc =[0.0068359375] \n",
      "epoch = 2/10 batch = 0/7 Loss = [5.278722763061523]  Acc =[0.0087890625] \n",
      "epoch = 2/10 batch = 1/7 Loss = [5.267740470684127]  Acc =[0.016556291538753258] \n",
      "epoch = 2/10 batch = 2/7 Loss = [5.263100102543831]  Acc =[0.0107421875] \n",
      "epoch = 2/10 batch = 3/7 Loss = [5.270396962761879]  Acc =[0.0087890625] \n",
      "epoch = 2/10 batch = 4/7 Loss = [5.254646003246307]  Acc =[0.0078125] \n",
      "epoch = 2/10 batch = 5/7 Loss = [5.249381870031357]  Acc =[0.0107421875] \n",
      "epoch = 2/10 batch = 6/7 Loss = [5.254032149910927]  Acc =[0.0087890625] \n",
      "epoch = 3/10 batch = 0/7 Loss = [5.240224748849869]  Acc =[0.013671875] \n",
      "epoch = 3/10 batch = 1/7 Loss = [5.229428678750992]  Acc =[0.0107421875] \n",
      "epoch = 3/10 batch = 2/7 Loss = [5.246177127029722]  Acc =[0.006622516556291391] \n",
      "epoch = 3/10 batch = 3/7 Loss = [5.197318404912949]  Acc =[0.009765625] \n",
      "epoch = 3/10 batch = 4/7 Loss = [5.202183082699776]  Acc =[0.017578125] \n",
      "epoch = 3/10 batch = 5/7 Loss = [5.199481129646301]  Acc =[0.0078125] \n",
      "epoch = 3/10 batch = 6/7 Loss = [5.185687273740768]  Acc =[0.0126953125] \n",
      "epoch = 4/10 batch = 0/7 Loss = [5.178500697016716]  Acc =[0.0087890625] \n",
      "epoch = 4/10 batch = 1/7 Loss = [5.163736447691917]  Acc =[0.0107421875] \n",
      "epoch = 4/10 batch = 2/7 Loss = [5.140489652752876]  Acc =[0.0166015625] \n",
      "epoch = 4/10 batch = 3/7 Loss = [5.167027151347786]  Acc =[0.013245033112582781] \n",
      "epoch = 4/10 batch = 4/7 Loss = [5.1303137838840485]  Acc =[0.01171875] \n",
      "epoch = 4/10 batch = 5/7 Loss = [5.106927320361137]  Acc =[0.017578125] \n",
      "epoch = 4/10 batch = 6/7 Loss = [5.1068732142448425]  Acc =[0.0166015625] \n",
      "epoch = 5/10 batch = 0/7 Loss = [5.090541020035744]  Acc =[0.0166015625] \n",
      "epoch = 5/10 batch = 1/7 Loss = [5.0794291496276855]  Acc =[0.0146484375] \n",
      "epoch = 5/10 batch = 2/7 Loss = [5.076821357011795]  Acc =[0.0146484375] \n",
      "epoch = 5/10 batch = 3/7 Loss = [5.039617896080017]  Acc =[0.0185546875] \n",
      "epoch = 5/10 batch = 4/7 Loss = [5.036340201927336]  Acc =[0.013245033112582781] \n",
      "epoch = 5/10 batch = 5/7 Loss = [4.967232048511505]  Acc =[0.017578125] \n",
      "epoch = 5/10 batch = 6/7 Loss = [5.008631646633148]  Acc =[0.0205078125] \n",
      "epoch = 6/10 batch = 0/7 Loss = [5.014156952500343]  Acc =[0.015625] \n",
      "epoch = 6/10 batch = 1/7 Loss = [4.9982073456048965]  Acc =[0.015625] \n",
      "epoch = 6/10 batch = 2/7 Loss = [4.973565444350243]  Acc =[0.0224609375] \n"
     ]
    }
   ],
   "source": [
    "cnn=net_CNN()\n",
    "cnn.train()"
   ]
  },
  {
   "cell_type": "code",
   "execution_count": 22,
   "metadata": {},
   "outputs": [
    {
     "data": {
      "image/png": "[encoded data removed]",
      "text/plain": [
       "<matplotlib.figure.Figure at 0x66a60c78d0>"
      ]
     },
     "metadata": {},
     "output_type": "display_data"
    }
   ],
   "source": [
    "plt.plot(cnn.losses) \n",
    "plt.ylabel('Error')\n",
    "plt.xlabel('Iterations')\n",
    "plt.show()"
   ]
  },
  {
   "cell_type": "code",
   "execution_count": 23,
   "metadata": {},
   "outputs": [
    {
     "data": {
      "image/png": "[encoded data removed]",
      "text/plain": [
       "<matplotlib.figure.Figure at 0x66a60ecc50>"
      ]
     },
     "metadata": {},
     "output_type": "display_data"
    }
   ],
   "source": [
    "plt.plot(cnn.acc) \n",
    "plt.ylabel('Error')\n",
    "plt.xlabel('Iterations')\n",
    "plt.show()"
   ]
  },
  {
   "cell_type": "code",
   "execution_count": null,
   "metadata": {},
   "outputs": [],
   "source": []
  }
 ],
 "metadata": {
  "kernelspec": {
   "display_name": "Python 3",
   "language": "python",
   "name": "python3"
  },
  "language_info": {
   "codemirror_mode": {
    "name": "ipython",
    "version": 3
   },
   "file_extension": ".py",
   "mimetype": "text/x-python",
   "name": "python",
   "nbconvert_exporter": "python",
   "pygments_lexer": "ipython3",
   "version": "3.6.0"
  }
 },
 "nbformat": 4,
 "nbformat_minor": 2
}
